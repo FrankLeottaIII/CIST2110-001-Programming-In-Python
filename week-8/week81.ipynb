{
 "cells": [
  {
   "cell_type": "markdown",
   "metadata": {},
   "source": [
    "# Python File I/O"
   ]
  },
  {
   "cell_type": "markdown",
   "metadata": {},
   "source": [
    "# File handling Importance and Functions\n",
    "\n",
    "## Imporance\n",
    "- File handling is an important part of any web application. (API's, Databases)\n",
    "- Vast majority of web applications read and write files on the server.\n",
    "- CSV's are a common file format for handling data.\n",
    "- Text files can be used as well\n",
    "\n",
    "Python has several functions for creating, reading, updating, and deleting files.\n",
    "\n",
    "The key function for working with files in Python is the open() function.\n",
    "\n",
    "The open() function takes two parameters; filename, and mode.\n",
    "\n",
    "There are four different methods (modes) for opening a file:\n",
    "- \"r\" - Read - Default value. Opens a file for reading, error if the file does not exist\n",
    "- \"a\" - Append - Opens a file for appending, creates the file if it does not exist\n",
    "- \"w\" - Write - Opens a file for writing, creates the file if it does not exist\n",
    "- \"x\" - Create - Creates the specified file, returns an error if the file exists\n",
    "\n"
   ]
  },
  {
   "cell_type": "code",
   "execution_count": 7,
   "metadata": {},
   "outputs": [
    {
     "name": "stdout",
     "output_type": "stream",
     "text": [
      "Lorem ipsum dolor sit amet, consectetur adipiscing elit, sed do eiusmod tempor incididunt ut labore et dolore magna aliqua.\n",
      "\n",
      "Ut enim ad minim veniam, quis nostrud exercitation ullamco laboris nisi ut aliquip ex ea commodo consequat. \n",
      "\n",
      "Duis aute irure dolor in reprehenderit in voluptate velit esse cillum dolore eu fugiat nulla pariatur. \n",
      "\n",
      "Excepteur sint occaecat cupidatat non proident, sunt in culpa qui officia deserunt mollit anim id est laborum.\n"
     ]
    }
   ],
   "source": [
    "# Showing some examples with txt files\n",
    "# We have a file in the week-8 folder called \"lorem.txt\"\n",
    "\n",
    "# Open the file\n",
    "# The open() function takes two parameters: filename, and mode.\n",
    "file = open(\"lorem.txt\", \"r\")\n",
    "\n",
    "# it is typical best practice to use a while loop to read the file line by line\n",
    "\n",
    "with open(\"lorem.txt\", \"r\") as file:\n",
    "    for line in file: # this is a standard for each loop\n",
    "        print(line)\n",
    "\n"
   ]
  },
  {
   "cell_type": "code",
   "execution_count": 8,
   "metadata": {},
   "outputs": [
    {
     "name": "stdout",
     "output_type": "stream",
     "text": [
      "Lorem ipsum dolor sit amet, consectetur adipiscing elit, sed do eiusmod tempor incididunt ut labore et dolore magna aliqua. Pharetra magna ac placerat vestibulum lectus mauris ultrices. Porttitor lacus luctus accumsan tortor posuere ac ut. In ornare quam viverra orci. Eget lorem dolor sed viverra ipsum nunc. Fusce id velit ut tortor. Mi in nulla posuere sollicitudin aliquam ultrices sagittis orci. Nunc scelerisque viverra mauris in aliquam. Sed adipiscing diam donec adipiscing tristique risus nec feugiat. Turpis massa tincidunt dui ut ornare. At erat pellentesque adipiscing commodo elit at imperdiet. Aliquam sem fringilla ut morbi. Blandit turpis cursus in hac habitasse platea. Magna sit amet purus gravida quis blandit. Diam quam nulla porttitor massa. Pellentesque massa placerat duis ultricies. Adipiscing enim eu turpis egestas pretium aenean. Suspendisse interdum consectetur libero id faucibus nisl tincidunt eget nullam. Suspendisse in est ante in. Suspendisse ultrices gravida dictum fusce ut placerat orci. Egestas tellus rutrum tellus pellentesque eu tincidunt tortor aliquam. Mauris cursus mattis molestie a iaculis at. Orci nulla pellentesque dignissim enim sit amet venenatis. Sollicitudin ac orci phasellus egestas tellus rutrum tellus pellentesque. Ultrices neque ornare aenean euismod elementum nisi quis eleifend. Suspendisse interdum consectetur libero id faucibus. Elementum facilisis leo vel fringilla est ullamcorper eget nulla facilisi. Dolor sed viverra ipsum nunc aliquet bibendum enim. Odio pellentesque diam volutpat commodo sed egestas egestas fringilla phasellus. Enim nunc faucibus a pellentesque sit. Mi ipsum faucibus vitae aliquet. Eu scelerisque felis imperdiet proin fermentum leo vel orci. Sed vulputate odio ut enim blandit volutpat maecenas. At quis risus sed vulputate odio ut enim blandit. Feugiat in fermentum posuere urna nec. Non enim praesent elementum facilisis. Viverra vitae congue eu consequat ac felis donec. Tellus in hac habitasse platea dictumst vestibulum rhoncus. Quis ipsum suspendisse ultrices gravida dictum fusce ut placerat. Etiam non quam lacus suspendisse faucibus interdum posuere lorem ipsum. Arcu dui vivamus arcu felis bibendum ut tristique. A pellentesque sit amet porttitor eget dolor morbi non arcu. Neque convallis a cras semper auctor neque. Cursus eget nunc scelerisque viverra mauris in aliquam sem. Suspendisse interdum consectetur libero id faucibus nisl tincidunt. Vitae justo eget magna fermentum iaculis eu non. Vestibulum morbi blandit cursus risus at ultrices mi. Blandit massa enim nec dui nunc mattis enim. Mi eget mauris pharetra et ultrices neque. A diam sollicitudin tempor id eu. Volutpat diam ut venenatis tellus in metus vulputate eu. Dignissim convallis aenean et tortor. Tellus rutrum tellus pellentesque eu tincidunt. Posuere lorem ipsum dolor sit amet consectetur adipiscing elit. In pellentesque massa placerat duis ultricies lacus sed turpis tincidunt. Eget nunc scelerisque viverra mauris. Augue neque gravida in fermentum. Leo in vitae turpis massa sed elementum tempus. Sed risus pretium quam vulputate. Pulvinar elementum integer enim neque volutpat ac. Sit amet consectetur adipiscing elit pellentesque habitant morbi tristique. Felis eget velit aliquet sagittis id consectetur purus ut faucibus. Blandit aliquam etiam erat velit. Hendrerit gravida rutrum quisque non tellus. Libero nunc consequat interdum varius sit amet mattis vulputate. Aliquam id diam maecenas ultricies mi eget mauris. Tellus rutrum tellus pellentesque eu. Viverra nibh cras pulvinar mattis nunc. Elementum nibh tellus molestie nunc. Nec feugiat nisl pretium fusce id velit. Odio eu feugiat pretium nibh ipsum. Posuere ac ut consequat semper viverra nam libero justo. Eleifend quam adipiscing vitae proin sagittis nisl. Sit amet mattis vulputate enim nulla aliquet porttitor lacus. Facilisis mauris sit amet massa vitae. Praesent elementum facilisis leo vel. Urna porttitor rhoncus dolor purus non enim praesent. Facilisis gravida neque convallis a cras semper auctor neque. Felis donec et odio pellentesque. Eu turpis egestas pretium aenean.\n"
     ]
    }
   ],
   "source": [
    "# We created a loremlong.txt with 80 sentences in it. However the sentences are not separated by a new line. Lets try to take in the whole file and print it out.\n",
    "\n",
    "with open(\"loremlong.txt\", \"r\") as file:\n",
    "    for line in file:\n",
    "        print(line)\n",
    "        \n"
   ]
  },
  {
   "cell_type": "code",
   "execution_count": 37,
   "metadata": {},
   "outputs": [],
   "source": [
    "# Notice how the file is 1 line. We can use the split() function to split the line into a list of sentences.\n",
    "# the split method takes a parameter of what to split on. In this case we want to split on a period.\n",
    "\n",
    "\n",
    "with open(\"loremlong.txt\", \"r\") as file:\n",
    "    for line in file:\n",
    "        sentences = line.split(\".\")\n",
    "        \n",
    "\n",
    "sentences_stripped = []\n",
    "# There is still spaces after the . so we need to remove them\n",
    "for sentence in sentences:\n",
    "    sentences_stripped.append(sentence.strip())\n",
    "\n",
    "\n",
    "# For some reason \n",
    "\n",
    "\n"
   ]
  },
  {
   "cell_type": "code",
   "execution_count": 39,
   "metadata": {},
   "outputs": [],
   "source": [
    "# Now that i have the sentences in a list, I can loop through the list and write each sentence to a new file. Including a period at the end of each sentence.\n",
    "\n",
    "# first check and delete the loremlong2.txt file if it exists\n",
    "import os\n",
    "if os.path.exists(\"loremlong2.txt\"):\n",
    "    os.remove(\"loremlong2.txt\")\n",
    "\n",
    "# Open a new file to write to (use \"a\" for append)\n",
    "\n",
    "for sentence in sentences_stripped[:-1]:\n",
    "    with open(\"loremlong2.txt\", \"a\") as file2:\n",
    "        file2.write(sentence + \".\\n\") # notice the write method does not add a new line character. We have to add it ourselves.\n",
    "\n",
    "\n",
    "\n"
   ]
  }
 ],
 "metadata": {
  "kernelspec": {
   "display_name": "venv",
   "language": "python",
   "name": "python3"
  },
  "language_info": {
   "codemirror_mode": {
    "name": "ipython",
    "version": 3
   },
   "file_extension": ".py",
   "mimetype": "text/x-python",
   "name": "python",
   "nbconvert_exporter": "python",
   "pygments_lexer": "ipython3",
   "version": "3.11.6"
  }
 },
 "nbformat": 4,
 "nbformat_minor": 2
}
