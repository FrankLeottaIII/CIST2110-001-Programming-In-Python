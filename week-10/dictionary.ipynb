{
 "cells": [
  {
   "cell_type": "markdown",
   "metadata": {},
   "source": [
    "# Python Dictionaries\n",
    "A dictionary is a collection which is unordered, changeable and indexed. In Python dictionaries are written with curly brackets, and they have keys and values.\n",
    "\n",
    "Lists are ordered, changeable, and allow duplicate values.\n",
    "\n",
    "Tuples are ordered, unchangeable and allow duplicate values.\n",
    "\n",
    "Dictionaries are unordered, changeable and do not allow duplicates. (Associated Arrays)\n",
    "\n",
    "Dictionaries are used to store data values in key:value pairs."
   ]
  },
  {
   "cell_type": "code",
   "execution_count": null,
   "metadata": {},
   "outputs": [],
   "source": [
    "# Some examples of Dictionaries\n",
    "\n",
    "# Create a dictionary\n",
    "blank_dict = {} # Notice the curly Brackets\n",
    "\n",
    "# Create a dictionary with values\n",
    "dict_with_values = {\"key1\": \"value1\", \"key2\": \"value2\"}\n",
    "\n",
    "# Dictionary with mixed values\n",
    "mixed_dict = {1: \"value1\", \"key2\": \"2\", \"key3\": 3.0}\n",
    "\n",
    "\n",
    "# Countries Dictionary \n",
    "\n",
    "countries = {\n",
    "   # Key: Value\n",
    "    \"US\": \"United States\",\n",
    "    \"UK\": \"United Kingdom\",\n",
    "    \"IN\": \"India\",\n",
    "    \"CA\": \"Canada\",\n",
    "    \"AU\": \"Australia\"\n",
    "}\n",
    "\n",
    "cars = {\n",
    "    \"brand\": \"Ford\",\n",
    "    \"model\": \"Mustang\",\n",
    "    \"year\": 1964\n",
    "}\n",
    "\n",
    "#multiple entries in a dictionary (list of dictionaries or tuple of dictionaries)\n",
    "cars_multiple = [\n",
    "    {\"brand\": \"Ford\", \"model\": \"Mustang\", \"year\": 1964},\n",
    "    {\"brand\": \"Chevy\", \"model\": \"Corvette\", \"year\": 2000},\n",
    "    {\"brand\": \"Tesla\", \"model\": \"Model S\", \"year\": 2019}\n",
    "]"
   ]
  },
  {
   "cell_type": "code",
   "execution_count": null,
   "metadata": {},
   "outputs": [],
   "source": [
    "# Some of the things we can do with Dictionaries\n",
    "\n",
    "# Dictionary Length\n",
    "print(len(countries))\n",
    "# Accessing a value using a key\n",
    "countries[\"US\"] \n",
    "# Return all keys\n",
    "countries.keys()\n",
    "# Retun all values\n",
    "countries.values()\n",
    "\n",
    "# countries[\"United States\"] # key Error\n",
    "\n",
    "# .items() returns a list of tuples\n",
    "countries.items()\n",
    "\n",
    "# # To lookup the key based on the value\n",
    "for key, value in countries.items():\n",
    "    if value == \"United States\":\n",
    "        print(f\"key is {key}\")\n",
    "        \n",
    "for value in countries.values():\n",
    "    print(value)\n",
    "    \n",
    "for key in countries.keys():\n",
    "    print(key)"
   ]
  },
  {
   "cell_type": "code",
   "execution_count": null,
   "metadata": {},
   "outputs": [],
   "source": [
    "print(countries)\n",
    "\n",
    "\n",
    "# get set and add items to a dictionary\n",
    "\n",
    "# Add a new item to the dictionary\n",
    "# Define a new key value pair\n",
    "countries[\"FR\"] = \"France\"\n",
    "\n",
    "# Update an existing item\n",
    "countries[\"FR\"] = \"French Republic\"\n",
    "\n",
    "# Get a value for a key\n",
    "countries.get(\"US\")\n",
    "\n",
    "# Difference between get and [] lookup\n",
    "# countries[\"US\"] # KeyError\n",
    "# countries.get(\"US\") # None\n",
    "\n",
    "\n"
   ]
  },
  {
   "cell_type": "code",
   "execution_count": null,
   "metadata": {},
   "outputs": [],
   "source": [
    "# Ways to Delete items from a dictionary\n",
    "\n",
    "# Delete a key value pair\n",
    "# del countries[\"FR\"]\n",
    "\n",
    "# If we try to delete it twice it will throw an error\n",
    "# To avoid this we can use pop\n",
    "\n",
    "# Delete a key value pair using pop\n",
    "print(countries.pop(\"US\", None)) # None is the default value if key is not found"
   ]
  },
  {
   "cell_type": "code",
   "execution_count": null,
   "metadata": {},
   "outputs": [],
   "source": [
    "# Clear a dictionary\n",
    "clear_dict = countries.clear() # clears the dictionary"
   ]
  }
 ],
 "metadata": {
  "kernelspec": {
   "display_name": "venv",
   "language": "python",
   "name": "python3"
  },
  "language_info": {
   "codemirror_mode": {
    "name": "ipython",
    "version": 3
   },
   "file_extension": ".py",
   "mimetype": "text/x-python",
   "name": "python",
   "nbconvert_exporter": "python",
   "pygments_lexer": "ipython3",
   "version": "3.11.6"
  }
 },
 "nbformat": 4,
 "nbformat_minor": 2
}
